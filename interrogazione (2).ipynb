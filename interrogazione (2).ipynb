{
 "cells": [
  {
   "cell_type": "code",
   "execution_count": null,
   "id": "2e50851a-111c-40ac-8d94-08d4dbdcb194",
   "metadata": {},
   "outputs": [],
   "source": [
    "def stampa_cifre():\n",
    "    \n",
    "stampa_cifre(5234)"
   ]
  },
  {
   "cell_type": "code",
   "execution_count": null,
   "id": "3fc6c138-45d3-4e63-863e-a287326d8b84",
   "metadata": {},
   "outputs": [],
   "source": [
    "def fattoriale():\n",
    "    \n",
    "a=int(input(\"inserisci il numero fino al quale vuoi sommare:\"))\n",
    "fattoriale(a)"
   ]
  }
 ],
 "metadata": {
  "kernelspec": {
   "display_name": "Python 3 (ipykernel)",
   "language": "python",
   "name": "python3"
  },
  "language_info": {
   "codemirror_mode": {
    "name": "ipython",
    "version": 3
   },
   "file_extension": ".py",
   "mimetype": "text/x-python",
   "name": "python",
   "nbconvert_exporter": "python",
   "pygments_lexer": "ipython3",
   "version": "3.12.4"
  }
 },
 "nbformat": 4,
 "nbformat_minor": 5
}
