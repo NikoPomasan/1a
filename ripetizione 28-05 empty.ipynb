{
 "cells": [
  {
   "cell_type": "markdown",
   "id": "47ea656d-a861-47ae-9e1c-7ccfcf996abc",
   "metadata": {},
   "source": [
    "Inserito un numero di giorni, convertili in anni, mesi e settimane."
   ]
  },
  {
   "cell_type": "code",
   "execution_count": null,
   "id": "79b4185a-27ca-48cf-8565-613505e24fdc",
   "metadata": {},
   "outputs": [],
   "source": [
    "giorni = int(input(\"Inserisci un numero di giorni: \"))\n",
    "\n",
    "anni = \n",
    "giorni_restanti =\n",
    "mesi = \n",
    "settimane = \n",
    "\n",
    "print(f\"{giorni} giorni sono circa {anni} anni, {mesi} mesi e {settimane} settimane.\")"
   ]
  },
  {
   "cell_type": "markdown",
   "id": "045cca30-08d4-4579-81e6-b181f6fcb195",
   "metadata": {},
   "source": [
    "Calcolatrice:"
   ]
  },
  {
   "cell_type": "code",
   "execution_count": null,
   "id": "4c0d420d-6c70-450e-ad05-f1a072caa361",
   "metadata": {},
   "outputs": [],
   "source": [
    "def calcolatrice(a, b, op):\n",
    "    \n",
    "\n",
    "a = float(input(\"Numero 1: \"))\n",
    "b = float(input(\"Numero 2: \"))\n",
    "op = input(\"Operazione (+ - * /): \")\n",
    "\n",
    "print(\"Risultato:\", calcolatrice(a, b, op))"
   ]
  },
  {
   "cell_type": "markdown",
   "id": "72362ae3-b7dd-40f7-9ac1-66f5bc1c7638",
   "metadata": {},
   "source": [
    "Conta numeri positivi, negativi o zero:"
   ]
  },
  {
   "cell_type": "code",
   "execution_count": null,
   "id": "95898b2f-3645-4a95-bcee-c89caf50bcb3",
   "metadata": {},
   "outputs": [],
   "source": [
    "positivi = negativi = zeri = 0\n",
    "\n",
    "for i in range(10):\n",
    "    n = int(input(\"Inserisci un numero: \"))\n",
    "    \n",
    "\n",
    "print(f\"Positivi: {positivi}, Negativi: {negativi}, Zeri: {zeri}\")"
   ]
  }
 ],
 "metadata": {
  "kernelspec": {
   "display_name": "Python 3 (ipykernel)",
   "language": "python",
   "name": "python3"
  },
  "language_info": {
   "codemirror_mode": {
    "name": "ipython",
    "version": 3
   },
   "file_extension": ".py",
   "mimetype": "text/x-python",
   "name": "python",
   "nbconvert_exporter": "python",
   "pygments_lexer": "ipython3",
   "version": "3.12.7"
  }
 },
 "nbformat": 4,
 "nbformat_minor": 5
}
