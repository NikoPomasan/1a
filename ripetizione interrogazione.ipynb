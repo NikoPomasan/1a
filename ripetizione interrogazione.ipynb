{
 "cells": [
  {
   "cell_type": "code",
   "execution_count": null,
   "id": "4c1d3d9a-a330-42cc-98c4-016740af9340",
   "metadata": {},
   "outputs": [],
   "source": [
    "def stampa_cifre(n):\n",
    "    if n < 10:\n",
    "        print(n)\n",
    "    else:\n",
    "        stampa_cifre(n//10)\n",
    "        print(n%10)\n",
    "\n",
    "stampa_cifre(5234)"
   ]
  },
  {
   "cell_type": "code",
   "execution_count": null,
   "id": "2e50851a-111c-40ac-8d94-08d4dbdcb194",
   "metadata": {},
   "outputs": [],
   "source": [
    "def stampa_cifre(n):\n",
    "    if n < 10:\n",
    "        print(n)\n",
    "    else:\n",
    "        print(n%10)\n",
    "        stampa_cifre(n//10)\n",
    "\n",
    "stampa_cifre(5234)"
   ]
  },
  {
   "cell_type": "code",
   "execution_count": null,
   "id": "b0099fd2-e012-49bb-92ae-c765b4dfe9e8",
   "metadata": {},
   "outputs": [],
   "source": [
    "def conta_cifre(n):\n",
    "    if n<10:\n",
    "        return 1\n",
    "    else:\n",
    "        return 1 + conta_cifre(n//10)\n",
    "\n",
    "conta_cifre(1569)"
   ]
  },
  {
   "cell_type": "code",
   "execution_count": null,
   "id": "3d298ac9-36e3-40d6-9115-9f24fd6dcaa6",
   "metadata": {},
   "outputs": [],
   "source": [
    "def somma(a,b):\n",
    "    s= a+b\n",
    "    return s\n",
    "\n",
    "a=int(input(\"Inserisci il primo numero:\"))\n",
    "b=int(input(\"Inserisci il secondo numero:\"))\n",
    "somma(a,b)"
   ]
  },
  {
   "cell_type": "code",
   "execution_count": null,
   "id": "707d7c3a-2d66-42aa-827d-5d7cb0cbcb95",
   "metadata": {},
   "outputs": [],
   "source": [
    "def sommatoria(a):\n",
    "    if a==1:\n",
    "        return 1\n",
    "    else:\n",
    "        return sommatoria(a-1)+a\n",
    "\n",
    "a=int(input(\"inserisci il numero fino al quale vuoi sommare:\"))\n",
    "sommatoria(a)"
   ]
  },
  {
   "cell_type": "code",
   "execution_count": null,
   "id": "5227ab92-e10f-48c9-b701-279e049036ac",
   "metadata": {},
   "outputs": [],
   "source": [
    "def potenza(a,b):\n",
    "    if b==0:\n",
    "        return 1        \n",
    "    else:\n",
    "        return a*potenza(a,b-1)    \n",
    "\n",
    "potenza(2,5)"
   ]
  },
  {
   "cell_type": "code",
   "execution_count": 1,
   "id": "4992f1a8-5abe-4c22-b4ed-638748cc187c",
   "metadata": {},
   "outputs": [
    {
     "ename": "SyntaxError",
     "evalue": "expected ':' (1508635853.py, line 1)",
     "output_type": "error",
     "traceback": [
      "\u001b[1;36m  Cell \u001b[1;32mIn[1], line 1\u001b[1;36m\u001b[0m\n\u001b[1;33m    def fibonacci(n)>\u001b[0m\n\u001b[1;37m                    ^\u001b[0m\n\u001b[1;31mSyntaxError\u001b[0m\u001b[1;31m:\u001b[0m expected ':'\n"
     ]
    }
   ],
   "source": [
    "def fibonacci(n)>\n",
    "    if n <= 1:\n",
    "        return n\n",
    "    return fibonacci(n - 1) + fibonacci(n - 2)\n",
    "\n",
    "for i in range(1,11):\n",
    "    print(fibonacci(i))"
   ]
  }
 ],
 "metadata": {
  "kernelspec": {
   "display_name": "Python 3 (ipykernel)",
   "language": "python",
   "name": "python3"
  },
  "language_info": {
   "codemirror_mode": {
    "name": "ipython",
    "version": 3
   },
   "file_extension": ".py",
   "mimetype": "text/x-python",
   "name": "python",
   "nbconvert_exporter": "python",
   "pygments_lexer": "ipython3",
   "version": "3.12.4"
  }
 },
 "nbformat": 4,
 "nbformat_minor": 5
}
