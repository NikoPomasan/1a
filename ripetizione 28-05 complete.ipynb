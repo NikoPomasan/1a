{
 "cells": [
  {
   "cell_type": "code",
   "execution_count": null,
   "id": "047539e6-de18-4951-adeb-a70e7e6ab61e",
   "metadata": {},
   "outputs": [],
   "source": [
    "positivi = negativi = zeri = 0\n",
    "\n",
    "for i in range(10):\n",
    "    n = int(input(\"Inserisci un numero: \"))\n",
    "    \n",
    "    if n > 0:\n",
    "        positivi += 1\n",
    "    elif n < 0:\n",
    "        negativi += 1\n",
    "    else:\n",
    "        zeri += 1\n",
    "\n",
    "print(f\"Positivi: {positivi}, Negativi: {negativi}, Zeri: {zeri}\")"
   ]
  },
  {
   "cell_type": "code",
   "execution_count": null,
   "id": "1a3367cc-1336-47bd-8156-078722a17423",
   "metadata": {},
   "outputs": [],
   "source": [
    "def calcolatrice(a, b, op):\n",
    "    if op == '+':\n",
    "        return a + b\n",
    "    elif op == '-':\n",
    "        return a - b\n",
    "    elif op == '*':\n",
    "        return a * b\n",
    "    elif op == '/':\n",
    "        # Handle division by zero\n",
    "        if b != 0:\n",
    "            return a / b\n",
    "        else:\n",
    "            return \"Errore: divisione per zero!\"\n",
    "    else:\n",
    "        return \"Operazione non valida!\"\n",
    "\n",
    "a = float(input(\"Numero 1: \"))\n",
    "b = float(input(\"Numero 2: \"))\n",
    "op = input(\"Operazione (+ - * /): \")\n",
    "\n",
    "Output the result of the calculation\n",
    "print(\"Risultato:\", calcolatrice(a, b, op))"
   ]
  },
  {
   "cell_type": "code",
   "execution_count": null,
   "id": "ab9eaf62-68e1-40d1-8d82-5b33404e3982",
   "metadata": {},
   "outputs": [],
   "source": [
    "giorni = int(input(\"Inserisci un numero di giorni: \"))\n",
    "\n",
    "# Calculate the number of years, months, and weeks\n",
    "anni = giorni // 365\n",
    "giorni_restanti = giorni % 365\n",
    "mesi = giorni_restanti // 30\n",
    "settimane = (giorni_restanti % 30) // 7\n",
    "\n",
    "print(f\"{giorni} giorni sono circa {anni} anni, {mesi} mesi e {settimane} settimane.\")"
   ]
  }
 ],
 "metadata": {
  "kernelspec": {
   "display_name": "Python 3 (ipykernel)",
   "language": "python",
   "name": "python3"
  },
  "language_info": {
   "codemirror_mode": {
    "name": "ipython",
    "version": 3
   },
   "file_extension": ".py",
   "mimetype": "text/x-python",
   "name": "python",
   "nbconvert_exporter": "python",
   "pygments_lexer": "ipython3",
   "version": "3.12.4"
  }
 },
 "nbformat": 4,
 "nbformat_minor": 5
}
